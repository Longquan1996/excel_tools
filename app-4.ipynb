{
 "cells": [
  {
   "cell_type": "code",
   "execution_count": 1,
   "metadata": {},
   "outputs": [],
   "source": [
    "import os\n",
    "import tkinter as tk\n",
    "from tkinter import filedialog, messagebox, ttk\n",
    "import pandas as pd"
   ]
  },
  {
   "cell_type": "code",
   "execution_count": 4,
   "metadata": {},
   "outputs": [],
   "source": [
    "file = \"D:\\\\Deeplearning\\\\excel_tools\\\\data\\\\00、扬翔股份24年11月实习生报表-提交1205.xlsx\""
   ]
  },
  {
   "cell_type": "code",
   "execution_count": null,
   "metadata": {},
   "outputs": [
    {
     "data": {
      "text/plain": [
       "['1-1、分公司实习生留存情况分析',\n",
       " '1-2、各院校实习生留存情况分析 ',\n",
       " '1-3、实习生其他维度留存情况分析',\n",
       " '2、在册实习生 ',\n",
       " '3、结束实习人员-2022年起',\n",
       " '4、实习生总人次-2022年起',\n",
       " '5-1、2024届“2+1”实习生',\n",
       " '5-2、“2+1”实习生透视表',\n",
       " '5-3、“2+1”实习生转入职人员名单 ',\n",
       " '5-4、“2+1”实习生转入职数据透视表',\n",
       " '5、实习生人数透视表',\n",
       " '6、在册实习生年级透视表',\n",
       " '7、各院校实习人数透视表']"
      ]
     },
     "execution_count": 5,
     "metadata": {},
     "output_type": "execute_result"
    }
   ],
   "source": [
    "excel_file = pd.ExcelFile(file)\n",
    "sheet_names = excel_file.sheet_names  # 获取所有工作表名称\n",
    "sheet_names"
   ]
  },
  {
   "cell_type": "code",
   "execution_count": 6,
   "metadata": {},
   "outputs": [
    {
     "data": {
      "text/plain": [
       "['序号',\n",
       " '身份证',\n",
       " '姓名',\n",
       " '性别',\n",
       " '出生日期',\n",
       " '学校',\n",
       " '专业',\n",
       " '学历',\n",
       " '年级',\n",
       " '籍贯',\n",
       " '手机号码',\n",
       " '类别',\n",
       " '事业部',\n",
       " '实习子公司',\n",
       " '实习部门',\n",
       " '岗位',\n",
       " '薪资',\n",
       " '费用承担部门',\n",
       " '说明',\n",
       " '实习时长',\n",
       " '到达公司实习时间',\n",
       " '预计离开公司时间',\n",
       " '实际离开公司时间',\n",
       " '离开原因',\n",
       " '实习期间表现-详细描述可从以下几个维度评价：\\n1、工作态度：\\n2、团队协作：\\n3、沟通能力：\\n4、专业技能：\\n5、融入情况及对公司的认可度：',\n",
       " '备注']"
      ]
     },
     "execution_count": 6,
     "metadata": {},
     "output_type": "execute_result"
    }
   ],
   "source": [
    "sheet_name = sheet_names[3]\n",
    "df = pd.read_excel(file, sheet_name=sheet_name, header=None)\n",
    "title_row = 0\n",
    "max_count = max([df.iloc[i].notnull().sum() for i in range(4)])\n",
    "for i in range(3,-1,-1):\n",
    "    if df.iloc[i].notnull().sum() == max_count:\n",
    "        title_row = i\n",
    "        break\n",
    "titles = df.iloc[title_row].tolist()\n",
    "titles"
   ]
  },
  {
   "cell_type": "code",
   "execution_count": 19,
   "metadata": {},
   "outputs": [
    {
     "data": {
      "text/plain": [
       "'事业部'"
      ]
     },
     "execution_count": 19,
     "metadata": {},
     "output_type": "execute_result"
    }
   ],
   "source": [
    "title_name = titles[12]\n",
    "title_name"
   ]
  },
  {
   "cell_type": "code",
   "execution_count": 22,
   "metadata": {},
   "outputs": [
    {
     "data": {
      "text/plain": [
       "3"
      ]
     },
     "execution_count": 22,
     "metadata": {},
     "output_type": "execute_result"
    }
   ],
   "source": [
    "# 读取数据\n",
    "df = pd.read_excel(file, sheet_name=sheet_name, header=title_row)\n",
    "# 根据title_name筛选数据并分类，并保存到新的DataFrame\n",
    "catagory = df[title_name].unique()\n",
    "catagory_df = {}\n",
    "for i in catagory:\n",
    "    catagory_df[i] = df[df[title_name] == i]\n",
    "    # catagory_df[i].reset_index(drop=True, inplace=True)\n",
    "len(catagory_df)"
   ]
  },
  {
   "cell_type": "code",
   "execution_count": 23,
   "metadata": {},
   "outputs": [],
   "source": [
    "#将catagory_df中的数据保存到新的excel文件中\n",
    "new_file = 'a.xlsx'\n",
    "with pd.ExcelWriter(new_file) as writer:\n",
    "    for i in catagory:\n",
    "        catagory_df[i].to_excel(writer, sheet_name=i, index=False)"
   ]
  },
  {
   "cell_type": "code",
   "execution_count": 21,
   "metadata": {},
   "outputs": [],
   "source": [
    "# 将catagory_df中的数据保存到新的excel文件中，每个sheet单独保存为一个文件，文件名为catagory名\n",
    "for i in catagory:\n",
    "    catagory_df[i].to_excel(i + '.xlsx', index=False)"
   ]
  },
  {
   "cell_type": "code",
   "execution_count": null,
   "metadata": {},
   "outputs": [],
   "source": []
  }
 ],
 "metadata": {
  "kernelspec": {
   "display_name": "excel_tool_env",
   "language": "python",
   "name": "python3"
  },
  "language_info": {
   "codemirror_mode": {
    "name": "ipython",
    "version": 3
   },
   "file_extension": ".py",
   "mimetype": "text/x-python",
   "name": "python",
   "nbconvert_exporter": "python",
   "pygments_lexer": "ipython3",
   "version": "3.10.15"
  }
 },
 "nbformat": 4,
 "nbformat_minor": 2
}
