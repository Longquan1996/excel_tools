{
 "cells": [
  {
   "cell_type": "code",
   "execution_count": 1,
   "metadata": {},
   "outputs": [],
   "source": [
    "import pandas as pd\n",
    "import os"
   ]
  },
  {
   "cell_type": "code",
   "execution_count": 9,
   "metadata": {},
   "outputs": [],
   "source": [
    "combined_df = {}"
   ]
  },
  {
   "cell_type": "code",
   "execution_count": 10,
   "metadata": {},
   "outputs": [],
   "source": [
    "# sheet_name = '1、初试'\n",
    "# title_row = 3\n",
    "# sheet_name = '2、复试'\n",
    "# title_row = 4\n",
    "# sheet_name = '3、录用'\n",
    "# title_row = 4\n",
    "sheet_name = '4、签约'\n",
    "title_row = 4"
   ]
  },
  {
   "cell_type": "code",
   "execution_count": 11,
   "metadata": {},
   "outputs": [
    {
     "name": "stdout",
     "output_type": "stream",
     "text": [
      "skip:\t\t[0, 1, 2]\n",
      "folder_path:\tc:\\Users\\long\\Desktop\\0\n",
      "output_file:\t4、签约.xlsx\n"
     ]
    }
   ],
   "source": [
    "skip=[i for i in range(title_row-1)]\n",
    "folder_path = os.getcwd()\n",
    "output_file = f'{sheet_name}.xlsx' \n",
    "\n",
    "print(f'skip:\\t\\t{skip}')\n",
    "print(f'folder_path:\\t{folder_path}')\n",
    "print(f'output_file:\\t{output_file}')"
   ]
  },
  {
   "cell_type": "code",
   "execution_count": 12,
   "metadata": {},
   "outputs": [
    {
     "name": "stderr",
     "output_type": "stream",
     "text": [
      "c:\\Users\\long\\anaconda3\\envs\\rnd-llm-excel\\Lib\\site-packages\\openpyxl\\worksheet\\_reader.py:329: UserWarning: Data Validation extension is not supported and will be removed\n",
      "  warn(msg)\n",
      "c:\\Users\\long\\anaconda3\\envs\\rnd-llm-excel\\Lib\\site-packages\\openpyxl\\worksheet\\_reader.py:329: UserWarning: Data Validation extension is not supported and will be removed\n",
      "  warn(msg)\n",
      "c:\\Users\\long\\anaconda3\\envs\\rnd-llm-excel\\Lib\\site-packages\\openpyxl\\worksheet\\_reader.py:329: UserWarning: Data Validation extension is not supported and will be removed\n",
      "  warn(msg)\n",
      "c:\\Users\\long\\anaconda3\\envs\\rnd-llm-excel\\Lib\\site-packages\\openpyxl\\worksheet\\_reader.py:329: UserWarning: Data Validation extension is not supported and will be removed\n",
      "  warn(msg)\n",
      "C:\\Users\\long\\AppData\\Local\\Temp\\ipykernel_31960\\3634412212.py:9: FutureWarning: The behavior of DataFrame concatenation with empty or all-NA entries is deprecated. In a future version, this will no longer exclude empty or all-NA columns when determining the result dtypes. To retain the old behavior, exclude the relevant entries before the concat operation.\n",
      "  sheet_data = pd.concat([sheet_data, df], ignore_index=True)\n",
      "c:\\Users\\long\\anaconda3\\envs\\rnd-llm-excel\\Lib\\site-packages\\openpyxl\\worksheet\\_reader.py:329: UserWarning: Data Validation extension is not supported and will be removed\n",
      "  warn(msg)\n",
      "c:\\Users\\long\\anaconda3\\envs\\rnd-llm-excel\\Lib\\site-packages\\openpyxl\\worksheet\\_reader.py:329: UserWarning: Data Validation extension is not supported and will be removed\n",
      "  warn(msg)\n",
      "c:\\Users\\long\\anaconda3\\envs\\rnd-llm-excel\\Lib\\site-packages\\openpyxl\\worksheet\\_reader.py:329: UserWarning: Data Validation extension is not supported and will be removed\n",
      "  warn(msg)\n",
      "c:\\Users\\long\\anaconda3\\envs\\rnd-llm-excel\\Lib\\site-packages\\openpyxl\\worksheet\\_reader.py:329: UserWarning: Data Validation extension is not supported and will be removed\n",
      "  warn(msg)\n",
      "c:\\Users\\long\\anaconda3\\envs\\rnd-llm-excel\\Lib\\site-packages\\openpyxl\\worksheet\\_reader.py:329: UserWarning: Data Validation extension is not supported and will be removed\n",
      "  warn(msg)\n",
      "c:\\Users\\long\\anaconda3\\envs\\rnd-llm-excel\\Lib\\site-packages\\openpyxl\\worksheet\\_reader.py:329: UserWarning: Data Validation extension is not supported and will be removed\n",
      "  warn(msg)\n",
      "c:\\Users\\long\\anaconda3\\envs\\rnd-llm-excel\\Lib\\site-packages\\openpyxl\\worksheet\\_reader.py:329: UserWarning: Data Validation extension is not supported and will be removed\n",
      "  warn(msg)\n",
      "C:\\Users\\long\\AppData\\Local\\Temp\\ipykernel_31960\\3634412212.py:9: FutureWarning: The behavior of DataFrame concatenation with empty or all-NA entries is deprecated. In a future version, this will no longer exclude empty or all-NA columns when determining the result dtypes. To retain the old behavior, exclude the relevant entries before the concat operation.\n",
      "  sheet_data = pd.concat([sheet_data, df], ignore_index=True)\n",
      "c:\\Users\\long\\anaconda3\\envs\\rnd-llm-excel\\Lib\\site-packages\\openpyxl\\worksheet\\_reader.py:329: UserWarning: Data Validation extension is not supported and will be removed\n",
      "  warn(msg)\n",
      "C:\\Users\\long\\AppData\\Local\\Temp\\ipykernel_31960\\3634412212.py:9: FutureWarning: The behavior of DataFrame concatenation with empty or all-NA entries is deprecated. In a future version, this will no longer exclude empty or all-NA columns when determining the result dtypes. To retain the old behavior, exclude the relevant entries before the concat operation.\n",
      "  sheet_data = pd.concat([sheet_data, df], ignore_index=True)\n"
     ]
    },
    {
     "name": "stdout",
     "output_type": "stream",
     "text": [
      "文件 2、复试.xlsx 中没有找到页签: 4、签约\n",
      "文件 3、录用.xlsx 中没有找到页签: 4、签约\n",
      "文件 汇总.xlsx 中没有找到页签: 4、签约\n",
      "文件数量：\t23\n"
     ]
    },
    {
     "name": "stderr",
     "output_type": "stream",
     "text": [
      "c:\\Users\\long\\anaconda3\\envs\\rnd-llm-excel\\Lib\\site-packages\\openpyxl\\worksheet\\_reader.py:329: UserWarning: Data Validation extension is not supported and will be removed\n",
      "  warn(msg)\n"
     ]
    }
   ],
   "source": [
    "sheet_data = pd.DataFrame()\n",
    "count = 0\n",
    "\n",
    "for file_name in os.listdir(folder_path):\n",
    "        if file_name.endswith('.xlsx') or file_name.endswith('.xls'):\n",
    "            file_path = os.path.join(folder_path, file_name)\n",
    "            try:\n",
    "                df = pd.read_excel(file_path, sheet_name=sheet_name, skiprows=skip)\n",
    "                sheet_data = pd.concat([sheet_data, df], ignore_index=True)\n",
    "                count += 1\n",
    "            except PermissionError:\n",
    "                print(f\"无法访问文件: {file_name}\")\n",
    "            except ValueError:\n",
    "                print(f\"文件 {file_name} 中没有找到页签: {sheet_name}\")\n",
    "            except (FileNotFoundError, OSError):\n",
    "                print(f\"文件 {file_name} 无法打开或不存在\")\n",
    "            except Exception as e:\n",
    "                print(f\"读取文件 {file_name} 时发生未知错误: {e}\")\n",
    "combined_df[sheet_name] = sheet_data\n",
    "print(f'文件数量：\\t{count}')"
   ]
  },
  {
   "cell_type": "code",
   "execution_count": 13,
   "metadata": {},
   "outputs": [
    {
     "data": {
      "text/plain": [
       "dict_keys(['4、签约'])"
      ]
     },
     "execution_count": 13,
     "metadata": {},
     "output_type": "execute_result"
    }
   ],
   "source": [
    "combined_df.keys()"
   ]
  },
  {
   "cell_type": "code",
   "execution_count": 14,
   "metadata": {},
   "outputs": [
    {
     "name": "stdout",
     "output_type": "stream",
     "text": [
      "已成功合并到4、签约.xlsx中\n"
     ]
    }
   ],
   "source": [
    "with pd.ExcelWriter(output_file) as writer:\n",
    "    for sheet_name, df in combined_df.items():\n",
    "        df.to_excel(writer, sheet_name=sheet_name, index=False)\n",
    "print(f\"已成功合并到{output_file}中\")"
   ]
  },
  {
   "cell_type": "code",
   "execution_count": null,
   "metadata": {},
   "outputs": [],
   "source": []
  },
  {
   "cell_type": "code",
   "execution_count": null,
   "metadata": {},
   "outputs": [],
   "source": []
  },
  {
   "cell_type": "code",
   "execution_count": 1,
   "metadata": {},
   "outputs": [],
   "source": [
    "from openpyxl import load_workbook, Workbook\n",
    "from copy import copy\n",
    "import os\n",
    "import pandas as pd\n",
    "\n",
    "# 指定文件路径和工作表名称\n",
    "folder_path = 'D:\\Deeplearning\\excel_tools\\data\\第五批大学生转正材料'\n",
    "# sheet_names = ['1、初试', '2、复试', '3、录用', '4、签约']\n",
    "output_file = 'a.xlsx'"
   ]
  },
  {
   "cell_type": "code",
   "execution_count": 2,
   "metadata": {},
   "outputs": [
    {
     "data": {
      "text/plain": [
       "19"
      ]
     },
     "execution_count": 2,
     "metadata": {},
     "output_type": "execute_result"
    }
   ],
   "source": [
    "excel_files = [f for f in os.listdir(folder_path) if f.endswith(('.xlsx', '.xls'))]\n",
    "count_files = len(excel_files)\n",
    "count_files"
   ]
  },
  {
   "cell_type": "code",
   "execution_count": 3,
   "metadata": {},
   "outputs": [],
   "source": [
    "def get_sheet_names(file_path):\n",
    "    \"\"\"从指定的 Excel 文件中获取所有工作表的名称\"\"\"\n",
    "    try:\n",
    "        # 使用 pandas.ExcelFile 加载 Excel 文件\n",
    "        excel_file = pd.ExcelFile(file_path)\n",
    "        sheet_names = excel_file.sheet_names  # 获取所有工作表名称\n",
    "        return sheet_names\n",
    "    except Exception as e:\n",
    "        print(f\"未知错误: {e}\")\n",
    "        return []"
   ]
  },
  {
   "cell_type": "code",
   "execution_count": 4,
   "metadata": {},
   "outputs": [
    {
     "data": {
      "text/plain": [
       "'10íó2024╜∞╨┬╘▒╣ñ│÷╟┌╠∞╩²╝░╫¬╒²═│╝╞╗π╫▄▒φ-╤╟╝╞╔╜.xls'"
      ]
     },
     "execution_count": 4,
     "metadata": {},
     "output_type": "execute_result"
    }
   ],
   "source": [
    "excel_files[0]"
   ]
  },
  {
   "cell_type": "code",
   "execution_count": 5,
   "metadata": {},
   "outputs": [
    {
     "data": {
      "text/plain": [
       "['出勤天数统计表', '转正统计汇总表']"
      ]
     },
     "execution_count": 5,
     "metadata": {},
     "output_type": "execute_result"
    }
   ],
   "source": [
    "sheet_names = get_sheet_names(os.path.join(folder_path, excel_files[0]))\n",
    "sheet_names"
   ]
  },
  {
   "cell_type": "code",
   "execution_count": 20,
   "metadata": {},
   "outputs": [],
   "source": [
    "combined_df = {}\n",
    "title_row_dict = {}\n",
    "\n",
    "for sheet_name in sheet_names:\n",
    "    sheet_data = pd.DataFrame()\n",
    "    for idx, file_name in enumerate(excel_files):  # 遍历所有excel\n",
    "        file_path = os.path.join(folder_path, file_name)\n",
    "        if idx == 0: # 第一次\n",
    "            df = pd.read_excel(file_path, sheet_name=sheet_name, header=None, dtype=str)\n",
    "            title_row = None\n",
    "            max_count = max([df.iloc[i].notnull().sum() for i in range(3)])\n",
    "            for i in range(2,-1,-1):\n",
    "                if df.iloc[i].notnull().sum() == max_count:\n",
    "                    title_row = i\n",
    "                    break\n",
    "            # for i, row in df.iterrows():\n",
    "            #     if row.notnull().all():  # 检测非空行作为标题行\n",
    "            #         title_row = i\n",
    "            #         break\n",
    "            if title_row == None:\n",
    "                raise Exception('没有找到标题行，请手动设置！')\n",
    "            # title_row_dict[sheet_name] = title_row\n",
    "            # new_columns = df.iloc[title_row-1].values\n",
    "            # df.columns = new_columns\n",
    "            # df.columns = range(len(df.columns))\n",
    "            # df = df.iloc[title_row:].reset_index(drop=True)\n",
    "            df = pd.read_excel(file_path, sheet_name=sheet_name, header=title_row, dtype=str)\n",
    "            sheet_data = pd.concat([sheet_data, df], ignore_index=True, join='outer')\n",
    "            # if df.columns.duplicated().any():\n",
    "            #     raise Exception(f\"文件 {file_name} 中存在重复列名，索引: {idx}\")\n",
    "        else:\n",
    "            # df = pd.read_excel(file_path, sheet_name=sheet_name, skiprows=title_row_dict[sheet_name]-1, dtype=str)\n",
    "            df = pd.read_excel(file_path, sheet_name=sheet_name, header=title_row, dtype=str)\n",
    "            # df.columns = range(len(df.columns))\n",
    "            sheet_data = pd.concat([sheet_data, df], ignore_index=True, join='outer')\n",
    "    combined_df[sheet_name] = sheet_data"
   ]
  },
  {
   "cell_type": "code",
   "execution_count": 24,
   "metadata": {},
   "outputs": [
    {
     "data": {
      "text/plain": [
       "1"
      ]
     },
     "execution_count": 24,
     "metadata": {},
     "output_type": "execute_result"
    }
   ],
   "source": [
    "title_row = None\n",
    "max_count = max([a.iloc[i].notnull().sum() for i in range(3)])\n",
    "for i in range(2,-1,-1):\n",
    "    if a.iloc[i].notnull().sum() == max_count:\n",
    "        title_row = i\n",
    "        break\n",
    "title_row"
   ]
  },
  {
   "cell_type": "code",
   "execution_count": 19,
   "metadata": {},
   "outputs": [
    {
     "data": {
      "text/plain": [
       "0                      1\n",
       "1     41152719980815202X\n",
       "2                    张巧丽\n",
       "3                  养猪事业部\n",
       "4                  亚计山农牧\n",
       "5                亚计山农牧本部\n",
       "6                    育种部\n",
       "7                    香江场\n",
       "8                      无\n",
       "9                   育种专员\n",
       "10                     女\n",
       "11                华中农业大学\n",
       "12       畜牧学-动物遗传育种与繁殖方向\n",
       "13                    硕士\n",
       "14                    吴梦\n",
       "15                   NaN\n",
       "16                   NaN\n",
       "17                   NaN\n",
       "18                   NaN\n",
       "19                   NaN\n",
       "20                   NaN\n",
       "21                   NaN\n",
       "22                   NaN\n",
       "23                   NaN\n",
       "24                   NaN\n",
       "25                   NaN\n",
       "26                   NaN\n",
       "27                   NaN\n",
       "28                     8\n",
       "29                    31\n",
       "30                    24\n",
       "31                    25\n",
       "32                    24\n",
       "33                   NaN\n",
       "34                   112\n",
       "35                     是\n",
       "36                   第五批\n",
       "37                   NaN\n",
       "Name: 2, dtype: object"
      ]
     },
     "execution_count": 19,
     "metadata": {},
     "output_type": "execute_result"
    }
   ],
   "source": [
    "a.iloc[2]"
   ]
  },
  {
   "cell_type": "code",
   "execution_count": 8,
   "metadata": {},
   "outputs": [
    {
     "data": {
      "text/html": [
       "<div>\n",
       "<style scoped>\n",
       "    .dataframe tbody tr th:only-of-type {\n",
       "        vertical-align: middle;\n",
       "    }\n",
       "\n",
       "    .dataframe tbody tr th {\n",
       "        vertical-align: top;\n",
       "    }\n",
       "\n",
       "    .dataframe thead th {\n",
       "        text-align: right;\n",
       "    }\n",
       "</style>\n",
       "<table border=\"1\" class=\"dataframe\">\n",
       "  <thead>\n",
       "    <tr style=\"text-align: right;\">\n",
       "      <th></th>\n",
       "      <th>0</th>\n",
       "      <th>1</th>\n",
       "      <th>2</th>\n",
       "      <th>3</th>\n",
       "      <th>4</th>\n",
       "      <th>5</th>\n",
       "      <th>6</th>\n",
       "      <th>7</th>\n",
       "      <th>8</th>\n",
       "      <th>9</th>\n",
       "      <th>...</th>\n",
       "      <th>28</th>\n",
       "      <th>29</th>\n",
       "      <th>30</th>\n",
       "      <th>31</th>\n",
       "      <th>32</th>\n",
       "      <th>33</th>\n",
       "      <th>34</th>\n",
       "      <th>35</th>\n",
       "      <th>36</th>\n",
       "      <th>37</th>\n",
       "    </tr>\n",
       "  </thead>\n",
       "  <tbody>\n",
       "    <tr>\n",
       "      <th>0</th>\n",
       "      <td>2024届人员转正出勤天数汇总表</td>\n",
       "      <td>NaN</td>\n",
       "      <td>NaN</td>\n",
       "      <td>NaN</td>\n",
       "      <td>NaN</td>\n",
       "      <td>NaN</td>\n",
       "      <td>NaN</td>\n",
       "      <td>NaN</td>\n",
       "      <td>NaN</td>\n",
       "      <td>NaN</td>\n",
       "      <td>...</td>\n",
       "      <td>NaN</td>\n",
       "      <td>NaN</td>\n",
       "      <td>NaN</td>\n",
       "      <td>NaN</td>\n",
       "      <td>NaN</td>\n",
       "      <td>NaN</td>\n",
       "      <td>NaN</td>\n",
       "      <td>NaN</td>\n",
       "      <td>NaN</td>\n",
       "      <td>NaN</td>\n",
       "    </tr>\n",
       "    <tr>\n",
       "      <th>1</th>\n",
       "      <td>序号</td>\n",
       "      <td>身份证</td>\n",
       "      <td>姓名</td>\n",
       "      <td>所属类型</td>\n",
       "      <td>一级公司</td>\n",
       "      <td>二级子公司</td>\n",
       "      <td>一级部门</td>\n",
       "      <td>二级部门</td>\n",
       "      <td>三级部门</td>\n",
       "      <td>岗位</td>\n",
       "      <td>...</td>\n",
       "      <td>2024年7月出勤天数</td>\n",
       "      <td>2024年8月出勤天数</td>\n",
       "      <td>2024年9月出勤天数</td>\n",
       "      <td>2024年10月出勤天数</td>\n",
       "      <td>2024年11月出勤天数</td>\n",
       "      <td>2024年12月出勤天数</td>\n",
       "      <td>合计天数</td>\n",
       "      <td>是否符合转正天数</td>\n",
       "      <td>转正批次</td>\n",
       "      <td>备注</td>\n",
       "    </tr>\n",
       "    <tr>\n",
       "      <th>2</th>\n",
       "      <td>1</td>\n",
       "      <td>41152719980815202X</td>\n",
       "      <td>张巧丽</td>\n",
       "      <td>养猪事业部</td>\n",
       "      <td>亚计山农牧</td>\n",
       "      <td>亚计山农牧本部</td>\n",
       "      <td>育种部</td>\n",
       "      <td>香江场</td>\n",
       "      <td>无</td>\n",
       "      <td>育种专员</td>\n",
       "      <td>...</td>\n",
       "      <td>8</td>\n",
       "      <td>31</td>\n",
       "      <td>24</td>\n",
       "      <td>25</td>\n",
       "      <td>24</td>\n",
       "      <td>NaN</td>\n",
       "      <td>112</td>\n",
       "      <td>是</td>\n",
       "      <td>第五批</td>\n",
       "      <td>NaN</td>\n",
       "    </tr>\n",
       "    <tr>\n",
       "      <th>3</th>\n",
       "      <td>2</td>\n",
       "      <td>50022620000601397X</td>\n",
       "      <td>黄正伟</td>\n",
       "      <td>养猪事业部</td>\n",
       "      <td>亚计山农牧</td>\n",
       "      <td>亚计山农牧本部</td>\n",
       "      <td>育种部</td>\n",
       "      <td>牛栏山种猪场</td>\n",
       "      <td>无</td>\n",
       "      <td>育种专员</td>\n",
       "      <td>...</td>\n",
       "      <td>0</td>\n",
       "      <td>17</td>\n",
       "      <td>30</td>\n",
       "      <td>25</td>\n",
       "      <td>24</td>\n",
       "      <td>NaN</td>\n",
       "      <td>96</td>\n",
       "      <td>是</td>\n",
       "      <td>第五批</td>\n",
       "      <td>NaN</td>\n",
       "    </tr>\n",
       "    <tr>\n",
       "      <th>4</th>\n",
       "      <td>3</td>\n",
       "      <td>532628200004201020</td>\n",
       "      <td>韦美秀</td>\n",
       "      <td>养猪事业部</td>\n",
       "      <td>亚计山农牧</td>\n",
       "      <td>亚计山农牧母猪场</td>\n",
       "      <td>桂妃山一场</td>\n",
       "      <td>3线</td>\n",
       "      <td>无</td>\n",
       "      <td>生产管理员</td>\n",
       "      <td>...</td>\n",
       "      <td>9</td>\n",
       "      <td>25</td>\n",
       "      <td>24</td>\n",
       "      <td>23</td>\n",
       "      <td>30</td>\n",
       "      <td>NaN</td>\n",
       "      <td>111</td>\n",
       "      <td>是</td>\n",
       "      <td>第五批</td>\n",
       "      <td>NaN</td>\n",
       "    </tr>\n",
       "    <tr>\n",
       "      <th>5</th>\n",
       "      <td>4</td>\n",
       "      <td>52022219980617001X</td>\n",
       "      <td>戴贵川</td>\n",
       "      <td>养猪事业部</td>\n",
       "      <td>亚计山农牧</td>\n",
       "      <td>亚计山农牧母猪场</td>\n",
       "      <td>桂妃山一场</td>\n",
       "      <td>8线</td>\n",
       "      <td>保育后备线</td>\n",
       "      <td>生产管理员</td>\n",
       "      <td>...</td>\n",
       "      <td>9</td>\n",
       "      <td>25</td>\n",
       "      <td>24</td>\n",
       "      <td>25</td>\n",
       "      <td>30</td>\n",
       "      <td>NaN</td>\n",
       "      <td>113</td>\n",
       "      <td>是</td>\n",
       "      <td>第五批</td>\n",
       "      <td>NaN</td>\n",
       "    </tr>\n",
       "    <tr>\n",
       "      <th>6</th>\n",
       "      <td>5</td>\n",
       "      <td>530325200002060749</td>\n",
       "      <td>肖秀英</td>\n",
       "      <td>养猪事业部</td>\n",
       "      <td>亚计山农牧</td>\n",
       "      <td>亚计山农牧母猪场</td>\n",
       "      <td>桂妃山二场</td>\n",
       "      <td>4线</td>\n",
       "      <td>无</td>\n",
       "      <td>生产管理员</td>\n",
       "      <td>...</td>\n",
       "      <td>8.5</td>\n",
       "      <td>25</td>\n",
       "      <td>27</td>\n",
       "      <td>25</td>\n",
       "      <td>30</td>\n",
       "      <td>NaN</td>\n",
       "      <td>115.5</td>\n",
       "      <td>是</td>\n",
       "      <td>第五批</td>\n",
       "      <td>NaN</td>\n",
       "    </tr>\n",
       "    <tr>\n",
       "      <th>7</th>\n",
       "      <td>6</td>\n",
       "      <td>452122200106275113</td>\n",
       "      <td>黄永鸿</td>\n",
       "      <td>养猪事业部</td>\n",
       "      <td>亚计山农牧</td>\n",
       "      <td>亚计山农牧肉猪养殖公司</td>\n",
       "      <td>销售部（肉猪）</td>\n",
       "      <td>无</td>\n",
       "      <td>无</td>\n",
       "      <td>销售外勤</td>\n",
       "      <td>...</td>\n",
       "      <td>8</td>\n",
       "      <td>27.5</td>\n",
       "      <td>23.5</td>\n",
       "      <td>25</td>\n",
       "      <td>24</td>\n",
       "      <td>NaN</td>\n",
       "      <td>108</td>\n",
       "      <td>是</td>\n",
       "      <td>第五批</td>\n",
       "      <td>NaN</td>\n",
       "    </tr>\n",
       "    <tr>\n",
       "      <th>8</th>\n",
       "      <td>7</td>\n",
       "      <td>450502200202160775</td>\n",
       "      <td>韩能起</td>\n",
       "      <td>养猪事业部</td>\n",
       "      <td>亚计山农牧</td>\n",
       "      <td>亚计山农牧肉猪养殖公司</td>\n",
       "      <td>销售部（肉猪）</td>\n",
       "      <td>无</td>\n",
       "      <td>无</td>\n",
       "      <td>销售外勤</td>\n",
       "      <td>...</td>\n",
       "      <td>8</td>\n",
       "      <td>25</td>\n",
       "      <td>25</td>\n",
       "      <td>31</td>\n",
       "      <td>24</td>\n",
       "      <td>NaN</td>\n",
       "      <td>113</td>\n",
       "      <td>是</td>\n",
       "      <td>第五批</td>\n",
       "      <td>NaN</td>\n",
       "    </tr>\n",
       "  </tbody>\n",
       "</table>\n",
       "<p>9 rows × 38 columns</p>\n",
       "</div>"
      ],
      "text/plain": [
       "                 0                   1    2      3      4            5   \\\n",
       "0  2024届人员转正出勤天数汇总表                 NaN  NaN    NaN    NaN          NaN   \n",
       "1                序号                 身份证   姓名   所属类型   一级公司        二级子公司   \n",
       "2                 1  41152719980815202X  张巧丽  养猪事业部  亚计山农牧      亚计山农牧本部   \n",
       "3                 2  50022620000601397X  黄正伟  养猪事业部  亚计山农牧      亚计山农牧本部   \n",
       "4                 3  532628200004201020  韦美秀  养猪事业部  亚计山农牧     亚计山农牧母猪场   \n",
       "5                 4  52022219980617001X  戴贵川  养猪事业部  亚计山农牧     亚计山农牧母猪场   \n",
       "6                 5  530325200002060749  肖秀英  养猪事业部  亚计山农牧     亚计山农牧母猪场   \n",
       "7                 6  452122200106275113  黄永鸿  养猪事业部  亚计山农牧  亚计山农牧肉猪养殖公司   \n",
       "8                 7  450502200202160775  韩能起  养猪事业部  亚计山农牧  亚计山农牧肉猪养殖公司   \n",
       "\n",
       "        6       7      8      9   ...           28           29           30  \\\n",
       "0      NaN     NaN    NaN    NaN  ...          NaN          NaN          NaN   \n",
       "1     一级部门    二级部门   三级部门     岗位  ...  2024年7月出勤天数  2024年8月出勤天数  2024年9月出勤天数   \n",
       "2      育种部     香江场      无   育种专员  ...            8           31           24   \n",
       "3      育种部  牛栏山种猪场      无   育种专员  ...            0           17           30   \n",
       "4    桂妃山一场      3线      无  生产管理员  ...            9           25           24   \n",
       "5    桂妃山一场      8线  保育后备线  生产管理员  ...            9           25           24   \n",
       "6    桂妃山二场      4线      无  生产管理员  ...          8.5           25           27   \n",
       "7  销售部（肉猪）       无      无   销售外勤  ...            8         27.5         23.5   \n",
       "8  销售部（肉猪）       无      无   销售外勤  ...            8           25           25   \n",
       "\n",
       "             31            32            33     34        35    36   37  \n",
       "0           NaN           NaN           NaN    NaN       NaN   NaN  NaN  \n",
       "1  2024年10月出勤天数  2024年11月出勤天数  2024年12月出勤天数   合计天数  是否符合转正天数  转正批次   备注  \n",
       "2            25            24           NaN    112         是   第五批  NaN  \n",
       "3            25            24           NaN     96         是   第五批  NaN  \n",
       "4            23            30           NaN    111         是   第五批  NaN  \n",
       "5            25            30           NaN    113         是   第五批  NaN  \n",
       "6            25            30           NaN  115.5         是   第五批  NaN  \n",
       "7            25            24           NaN    108         是   第五批  NaN  \n",
       "8            31            24           NaN    113         是   第五批  NaN  \n",
       "\n",
       "[9 rows x 38 columns]"
      ]
     },
     "execution_count": 8,
     "metadata": {},
     "output_type": "execute_result"
    }
   ],
   "source": [
    "a = pd.read_excel(os.path.join(folder_path, excel_files[0]), sheet_name=sheet_names[0], header=None)\n",
    "a"
   ]
  },
  {
   "cell_type": "code",
   "execution_count": 56,
   "metadata": {},
   "outputs": [
    {
     "data": {
      "text/plain": [
       "np.True_"
      ]
     },
     "execution_count": 56,
     "metadata": {},
     "output_type": "execute_result"
    }
   ],
   "source": [
    "a.iloc[0].apply(lambda x: isinstance(x, (int, float))).any()"
   ]
  },
  {
   "cell_type": "code",
   "execution_count": 58,
   "metadata": {},
   "outputs": [
    {
     "name": "stdout",
     "output_type": "stream",
     "text": [
      "<class 'float'>\n",
      "<class 'str'>\n",
      "<class 'str'>\n",
      "<class 'str'>\n",
      "<class 'str'>\n",
      "<class 'str'>\n",
      "<class 'str'>\n",
      "<class 'str'>\n",
      "<class 'str'>\n",
      "<class 'str'>\n",
      "<class 'str'>\n",
      "<class 'str'>\n",
      "<class 'str'>\n",
      "<class 'str'>\n",
      "<class 'str'>\n",
      "<class 'float'>\n",
      "<class 'str'>\n",
      "<class 'str'>\n",
      "<class 'str'>\n",
      "<class 'str'>\n",
      "<class 'str'>\n",
      "<class 'str'>\n",
      "<class 'str'>\n",
      "<class 'str'>\n",
      "<class 'str'>\n",
      "<class 'float'>\n"
     ]
    }
   ],
   "source": [
    "for i in a.iloc[2]:\n",
    "    print(type(i))"
   ]
  },
  {
   "cell_type": "code",
   "execution_count": 9,
   "metadata": {},
   "outputs": [],
   "source": [
    "with pd.ExcelWriter(output_file, engine='openpyxl') as writer:\n",
    "    for sheet_name, df in combined_df.items():\n",
    "        title_row = title_row_dict[sheet_name]\n",
    "        df.to_excel(writer, sheet_name=sheet_name, header=False, index=False)\n",
    "        \n",
    "        # 获取 workbook 和 worksheet 对象\n",
    "        new_wb = writer.book\n",
    "        new_ws = new_wb[sheet_name]\n",
    "        new_ws.insert_rows(1, title_row) \n",
    "        \n",
    "        # 获取原始 Excel 文件的标题格式\n",
    "        original_wb = load_workbook(os.path.join(folder_path, excel_files[0]), data_only=True)\n",
    "        original_ws = original_wb[sheet_name]\n",
    "\n",
    "        for row in original_ws.iter_rows(min_row=1, max_row=title_row, values_only=False):\n",
    "            for cell in row:\n",
    "                new_cell = new_ws.cell(row=cell.row, column=cell.column, value=cell.value)\n",
    "                if cell.has_style:\n",
    "                    new_cell.font = copy(cell.font)\n",
    "                    new_cell.fill = copy(cell.fill)\n",
    "                    new_cell.alignment = copy(cell.alignment)\n",
    "                    new_cell.border = copy(cell.border)\n",
    "                    new_cell.number_format = cell.number_format\n",
    "\n",
    "        for merged_range in original_ws.merged_cells.ranges:\n",
    "            min_col, min_row, max_col, max_row = merged_range.bounds\n",
    "            if min_row <= title_row:\n",
    "                new_ws.merge_cells(start_row=min_row, start_column=min_col,\n",
    "                                end_row=max_row, end_column=max_col)\n",
    "                \n",
    "original_wb.close()\n",
    "new_wb.close()"
   ]
  },
  {
   "cell_type": "code",
   "execution_count": null,
   "metadata": {},
   "outputs": [],
   "source": []
  },
  {
   "cell_type": "code",
   "execution_count": null,
   "metadata": {},
   "outputs": [],
   "source": []
  },
  {
   "cell_type": "code",
   "execution_count": null,
   "metadata": {},
   "outputs": [],
   "source": []
  },
  {
   "cell_type": "code",
   "execution_count": null,
   "metadata": {},
   "outputs": [],
   "source": [
    "def get_sheet_names(file_path):\n",
    "    \"\"\"从指定的 Excel 文件中获取所有工作表的名称\"\"\"\n",
    "    try:\n",
    "        # 加载 Excel 文件\n",
    "        wb = load_workbook(file_path, read_only=True)  # 使用 read_only=True 提高性能\n",
    "        sheet_names = wb.sheetnames  # 获取所有工作表名称\n",
    "        wb.close()  # 关闭工作簿\n",
    "        return sheet_names\n",
    "    except FileNotFoundError:\n",
    "        print(f\"文件 {file_path} 未找到！\")\n",
    "        return []\n",
    "    except Exception as e:\n",
    "        print(f\"无法读取文件: {e}\")\n",
    "        return []"
   ]
  },
  {
   "cell_type": "code",
   "execution_count": null,
   "metadata": {},
   "outputs": [],
   "source": [
    "def copy_title(new_ws, ws, title_row): # 复制标题（标题行之前）\n",
    "    for row in ws.iter_rows(min_row=1, max_row=title_row, values_only=False): # 复制原始工作表的标题行\n",
    "        for cell in row:\n",
    "            new_cell = new_ws.cell(row=cell.row, column=cell.column, value=cell.value)\n",
    "            if cell.has_style:\n",
    "                new_cell.font = copy(cell.font)\n",
    "                new_cell.fill = copy(cell.fill)\n",
    "                new_cell.alignment = copy(cell.alignment)\n",
    "                new_cell.border = copy(cell.border)\n",
    "                new_cell.number_format = cell.number_format\n",
    "    for merged_range in ws.merged_cells.ranges: # 复制合并单元格信息\n",
    "        min_col, min_row, max_col, max_row = merged_range.bounds\n",
    "        if min_row <= title_row:\n",
    "            new_ws.merge_cells(start_row=min_row, start_column=min_col,\n",
    "                            end_row=max_row, end_column=max_col)"
   ]
  },
  {
   "cell_type": "code",
   "execution_count": null,
   "metadata": {},
   "outputs": [],
   "source": [
    "def copy_data(new_ws, ws, title_row): # 复制数据行（从标题行之后开始）\n",
    "    data_start_row = title_row + 1\n",
    "    for r_idx, row in enumerate(ws.iter_rows(min_row=data_start_row, values_only=True), start=new_ws.max_row):\n",
    "        for c_idx, cell in enumerate(row, start=1):\n",
    "            new_ws.cell(row=r_idx, column=c_idx, value=cell)"
   ]
  },
  {
   "cell_type": "code",
   "execution_count": null,
   "metadata": {},
   "outputs": [],
   "source": [
    "# 复制原始工作表的标题行\n",
    "for row in original_ws.iter_rows(min_row=1, max_row=title_row, values_only=False):\n",
    "    for cell in row:\n",
    "        new_cell = new_ws.cell(row=cell.row, column=cell.column, value=cell.value)\n",
    "        if cell.has_style:\n",
    "            new_cell.font = copy(cell.font)\n",
    "            new_cell.fill = copy(cell.fill)\n",
    "            new_cell.alignment = copy(cell.alignment)\n",
    "            new_cell.border = copy(cell.border)\n",
    "            new_cell.number_format = cell.number_format\n",
    "\n",
    "# 复制合并单元格信息\n",
    "for merged_range in original_ws.merged_cells.ranges:\n",
    "    min_col, min_row, max_col, max_row = merged_range.bounds\n",
    "    if min_row <= title_row:\n",
    "        new_ws.merge_cells(start_row=min_row, start_column=min_col,\n",
    "                           end_row=max_row, end_column=max_col)"
   ]
  },
  {
   "cell_type": "code",
   "execution_count": null,
   "metadata": {},
   "outputs": [],
   "source": []
  },
  {
   "cell_type": "code",
   "execution_count": 34,
   "metadata": {},
   "outputs": [],
   "source": [
    "# 创建一个新的工作簿并添加工作表\n",
    "new_wb = Workbook()\n",
    "new_ws = new_wb.create_sheet(title=sheet_name)"
   ]
  },
  {
   "cell_type": "code",
   "execution_count": 35,
   "metadata": {},
   "outputs": [
    {
     "data": {
      "text/plain": [
       "1"
      ]
     },
     "execution_count": 35,
     "metadata": {},
     "output_type": "execute_result"
    }
   ],
   "source": [
    "new_ws.max_row"
   ]
  },
  {
   "cell_type": "code",
   "execution_count": 2,
   "metadata": {},
   "outputs": [],
   "source": [
    "# 加载原始 Excel 文件\n",
    "original_wb = load_workbook(file_path, data_only=True)\n",
    "original_ws = original_wb[sheet_name]"
   ]
  },
  {
   "cell_type": "code",
   "execution_count": null,
   "metadata": {},
   "outputs": [],
   "source": [
    "# 设置 DataFrame 的列名并清理数据\n",
    "new_columns = df.iloc[title_row-1].values\n",
    "df.columns = new_columns\n",
    "df = df.iloc[title_row:].reset_index(drop=True)"
   ]
  },
  {
   "cell_type": "code",
   "execution_count": 22,
   "metadata": {},
   "outputs": [
    {
     "name": "stdout",
     "output_type": "stream",
     "text": [
      "A2:F2\n",
      "A1:AM1\n",
      "AJ2:AM2\n",
      "G2:AI2\n"
     ]
    }
   ],
   "source": [
    "for merged_range in original_ws.merged_cells:\n",
    "    print(merged_range)"
   ]
  },
  {
   "cell_type": "code",
   "execution_count": 40,
   "metadata": {},
   "outputs": [],
   "source": [
    "# 复制原始工作表的标题行\n",
    "for row in original_ws.iter_rows(min_row=1, max_row=title_row, values_only=False):\n",
    "    for cell in row:\n",
    "        new_cell = new_ws.cell(row=cell.row, column=cell.column, value=cell.value)\n",
    "        if cell.has_style:\n",
    "            new_cell.font = copy(cell.font)\n",
    "            new_cell.fill = copy(cell.fill)\n",
    "            new_cell.alignment = copy(cell.alignment)\n",
    "            new_cell.border = copy(cell.border)\n",
    "            new_cell.number_format = cell.number_format\n",
    "\n",
    "# 复制合并单元格信息\n",
    "for merged_range in original_ws.merged_cells.ranges:\n",
    "    min_col, min_row, max_col, max_row = merged_range.bounds\n",
    "    if min_row <= title_row:\n",
    "        new_ws.merge_cells(start_row=min_row, start_column=min_col,\n",
    "                           end_row=max_row, end_column=max_col)\n",
    "        \n",
    "# 将 DataFrame 的数据追加到新工作表的后面\n",
    "# for r_idx, row in enumerate(dataframe_to_rows(df, index=False, header=False), start=title_row+1):\n",
    "#     for c_idx, value in enumerate(row, start=1):\n",
    "#         new_ws.cell(row=r_idx, column=c_idx, value=value)\n",
    "\n",
    "# 复制数据行（从标题行之后开始）\n",
    "data_start_row = title_row + 1\n",
    "for r_idx, row in enumerate(original_ws.iter_rows(min_row=data_start_row, values_only=False), start=data_start_row):\n",
    "    for c_idx, cell in enumerate(row, start=1):\n",
    "        new_ws.cell(row=r_idx, column=c_idx, value=cell.value)\n",
    "\n",
    "# 保存新的 Excel 文件\n",
    "new_wb.save('a.xlsx')\n",
    "\n",
    "# 关闭原始工作簿\n",
    "original_wb.close()\n",
    "\n",
    "# 关闭新工作簿（可选，但建议保留以确保资源释放）\n",
    "new_wb.close()\n"
   ]
  },
  {
   "cell_type": "code",
   "execution_count": null,
   "metadata": {},
   "outputs": [],
   "source": []
  }
 ],
 "metadata": {
  "kernelspec": {
   "display_name": "excel_tool_env",
   "language": "python",
   "name": "python3"
  },
  "language_info": {
   "codemirror_mode": {
    "name": "ipython",
    "version": 3
   },
   "file_extension": ".py",
   "mimetype": "text/x-python",
   "name": "python",
   "nbconvert_exporter": "python",
   "pygments_lexer": "ipython3",
   "version": "3.10.15"
  }
 },
 "nbformat": 4,
 "nbformat_minor": 2
}
