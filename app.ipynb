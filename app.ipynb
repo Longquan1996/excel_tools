{
 "cells": [
  {
   "cell_type": "code",
   "execution_count": 1,
   "metadata": {},
   "outputs": [],
   "source": [
    "import pandas as pd\n",
    "import os"
   ]
  },
  {
   "cell_type": "code",
   "execution_count": 9,
   "metadata": {},
   "outputs": [],
   "source": [
    "combined_df = {}"
   ]
  },
  {
   "cell_type": "code",
   "execution_count": 10,
   "metadata": {},
   "outputs": [],
   "source": [
    "# sheet_name = '1、初试'\n",
    "# title_row = 3\n",
    "# sheet_name = '2、复试'\n",
    "# title_row = 4\n",
    "# sheet_name = '3、录用'\n",
    "# title_row = 4\n",
    "sheet_name = '4、签约'\n",
    "title_row = 4"
   ]
  },
  {
   "cell_type": "code",
   "execution_count": 11,
   "metadata": {},
   "outputs": [
    {
     "name": "stdout",
     "output_type": "stream",
     "text": [
      "skip:\t\t[0, 1, 2]\n",
      "folder_path:\tc:\\Users\\long\\Desktop\\0\n",
      "output_file:\t4、签约.xlsx\n"
     ]
    }
   ],
   "source": [
    "skip=[i for i in range(title_row-1)]\n",
    "folder_path = os.getcwd()\n",
    "output_file = f'{sheet_name}.xlsx' \n",
    "\n",
    "print(f'skip:\\t\\t{skip}')\n",
    "print(f'folder_path:\\t{folder_path}')\n",
    "print(f'output_file:\\t{output_file}')"
   ]
  },
  {
   "cell_type": "code",
   "execution_count": 12,
   "metadata": {},
   "outputs": [
    {
     "name": "stderr",
     "output_type": "stream",
     "text": [
      "c:\\Users\\long\\anaconda3\\envs\\rnd-llm-excel\\Lib\\site-packages\\openpyxl\\worksheet\\_reader.py:329: UserWarning: Data Validation extension is not supported and will be removed\n",
      "  warn(msg)\n",
      "c:\\Users\\long\\anaconda3\\envs\\rnd-llm-excel\\Lib\\site-packages\\openpyxl\\worksheet\\_reader.py:329: UserWarning: Data Validation extension is not supported and will be removed\n",
      "  warn(msg)\n",
      "c:\\Users\\long\\anaconda3\\envs\\rnd-llm-excel\\Lib\\site-packages\\openpyxl\\worksheet\\_reader.py:329: UserWarning: Data Validation extension is not supported and will be removed\n",
      "  warn(msg)\n",
      "c:\\Users\\long\\anaconda3\\envs\\rnd-llm-excel\\Lib\\site-packages\\openpyxl\\worksheet\\_reader.py:329: UserWarning: Data Validation extension is not supported and will be removed\n",
      "  warn(msg)\n",
      "C:\\Users\\long\\AppData\\Local\\Temp\\ipykernel_31960\\3634412212.py:9: FutureWarning: The behavior of DataFrame concatenation with empty or all-NA entries is deprecated. In a future version, this will no longer exclude empty or all-NA columns when determining the result dtypes. To retain the old behavior, exclude the relevant entries before the concat operation.\n",
      "  sheet_data = pd.concat([sheet_data, df], ignore_index=True)\n",
      "c:\\Users\\long\\anaconda3\\envs\\rnd-llm-excel\\Lib\\site-packages\\openpyxl\\worksheet\\_reader.py:329: UserWarning: Data Validation extension is not supported and will be removed\n",
      "  warn(msg)\n",
      "c:\\Users\\long\\anaconda3\\envs\\rnd-llm-excel\\Lib\\site-packages\\openpyxl\\worksheet\\_reader.py:329: UserWarning: Data Validation extension is not supported and will be removed\n",
      "  warn(msg)\n",
      "c:\\Users\\long\\anaconda3\\envs\\rnd-llm-excel\\Lib\\site-packages\\openpyxl\\worksheet\\_reader.py:329: UserWarning: Data Validation extension is not supported and will be removed\n",
      "  warn(msg)\n",
      "c:\\Users\\long\\anaconda3\\envs\\rnd-llm-excel\\Lib\\site-packages\\openpyxl\\worksheet\\_reader.py:329: UserWarning: Data Validation extension is not supported and will be removed\n",
      "  warn(msg)\n",
      "c:\\Users\\long\\anaconda3\\envs\\rnd-llm-excel\\Lib\\site-packages\\openpyxl\\worksheet\\_reader.py:329: UserWarning: Data Validation extension is not supported and will be removed\n",
      "  warn(msg)\n",
      "c:\\Users\\long\\anaconda3\\envs\\rnd-llm-excel\\Lib\\site-packages\\openpyxl\\worksheet\\_reader.py:329: UserWarning: Data Validation extension is not supported and will be removed\n",
      "  warn(msg)\n",
      "c:\\Users\\long\\anaconda3\\envs\\rnd-llm-excel\\Lib\\site-packages\\openpyxl\\worksheet\\_reader.py:329: UserWarning: Data Validation extension is not supported and will be removed\n",
      "  warn(msg)\n",
      "C:\\Users\\long\\AppData\\Local\\Temp\\ipykernel_31960\\3634412212.py:9: FutureWarning: The behavior of DataFrame concatenation with empty or all-NA entries is deprecated. In a future version, this will no longer exclude empty or all-NA columns when determining the result dtypes. To retain the old behavior, exclude the relevant entries before the concat operation.\n",
      "  sheet_data = pd.concat([sheet_data, df], ignore_index=True)\n",
      "c:\\Users\\long\\anaconda3\\envs\\rnd-llm-excel\\Lib\\site-packages\\openpyxl\\worksheet\\_reader.py:329: UserWarning: Data Validation extension is not supported and will be removed\n",
      "  warn(msg)\n",
      "C:\\Users\\long\\AppData\\Local\\Temp\\ipykernel_31960\\3634412212.py:9: FutureWarning: The behavior of DataFrame concatenation with empty or all-NA entries is deprecated. In a future version, this will no longer exclude empty or all-NA columns when determining the result dtypes. To retain the old behavior, exclude the relevant entries before the concat operation.\n",
      "  sheet_data = pd.concat([sheet_data, df], ignore_index=True)\n"
     ]
    },
    {
     "name": "stdout",
     "output_type": "stream",
     "text": [
      "文件 2、复试.xlsx 中没有找到页签: 4、签约\n",
      "文件 3、录用.xlsx 中没有找到页签: 4、签约\n",
      "文件 汇总.xlsx 中没有找到页签: 4、签约\n",
      "文件数量：\t23\n"
     ]
    },
    {
     "name": "stderr",
     "output_type": "stream",
     "text": [
      "c:\\Users\\long\\anaconda3\\envs\\rnd-llm-excel\\Lib\\site-packages\\openpyxl\\worksheet\\_reader.py:329: UserWarning: Data Validation extension is not supported and will be removed\n",
      "  warn(msg)\n"
     ]
    }
   ],
   "source": [
    "sheet_data = pd.DataFrame()\n",
    "count = 0\n",
    "\n",
    "for file_name in os.listdir(folder_path):\n",
    "        if file_name.endswith('.xlsx') or file_name.endswith('.xls'):\n",
    "            file_path = os.path.join(folder_path, file_name)\n",
    "            try:\n",
    "                df = pd.read_excel(file_path, sheet_name=sheet_name, skiprows=skip)\n",
    "                sheet_data = pd.concat([sheet_data, df], ignore_index=True)\n",
    "                count += 1\n",
    "            except PermissionError:\n",
    "                print(f\"无法访问文件: {file_name}\")\n",
    "            except ValueError:\n",
    "                print(f\"文件 {file_name} 中没有找到页签: {sheet_name}\")\n",
    "            except (FileNotFoundError, OSError):\n",
    "                print(f\"文件 {file_name} 无法打开或不存在\")\n",
    "            except Exception as e:\n",
    "                print(f\"读取文件 {file_name} 时发生未知错误: {e}\")\n",
    "combined_df[sheet_name] = sheet_data\n",
    "print(f'文件数量：\\t{count}')"
   ]
  },
  {
   "cell_type": "code",
   "execution_count": 13,
   "metadata": {},
   "outputs": [
    {
     "data": {
      "text/plain": [
       "dict_keys(['4、签约'])"
      ]
     },
     "execution_count": 13,
     "metadata": {},
     "output_type": "execute_result"
    }
   ],
   "source": [
    "combined_df.keys()"
   ]
  },
  {
   "cell_type": "code",
   "execution_count": 14,
   "metadata": {},
   "outputs": [
    {
     "name": "stdout",
     "output_type": "stream",
     "text": [
      "已成功合并到4、签约.xlsx中\n"
     ]
    }
   ],
   "source": [
    "with pd.ExcelWriter(output_file) as writer:\n",
    "    for sheet_name, df in combined_df.items():\n",
    "        df.to_excel(writer, sheet_name=sheet_name, index=False)\n",
    "print(f\"已成功合并到{output_file}中\")"
   ]
  },
  {
   "cell_type": "code",
   "execution_count": null,
   "metadata": {},
   "outputs": [],
   "source": []
  },
  {
   "cell_type": "code",
   "execution_count": null,
   "metadata": {},
   "outputs": [],
   "source": []
  },
  {
   "cell_type": "code",
   "execution_count": 2,
   "metadata": {},
   "outputs": [],
   "source": [
    "from openpyxl import load_workbook, Workbook\n",
    "from copy import copy\n",
    "import os\n",
    "import pandas as pd\n",
    "\n",
    "# 指定文件路径和工作表名称\n",
    "folder_path = '学校报表'\n",
    "sheet_names = ['1、初试', '2、复试', '3、录用', '4、签约']\n",
    "output_file = 'a.xlsx'"
   ]
  },
  {
   "cell_type": "code",
   "execution_count": 3,
   "metadata": {},
   "outputs": [],
   "source": [
    "excel_files = [f for f in os.listdir(folder_path) if f.endswith(('.xlsx', '.xls'))]\n",
    "count_files = len(excel_files)"
   ]
  },
  {
   "cell_type": "code",
   "execution_count": 4,
   "metadata": {},
   "outputs": [],
   "source": [
    "def get_sheet_names(file_path):\n",
    "    \"\"\"从指定的 Excel 文件中获取所有工作表的名称\"\"\"\n",
    "    try:\n",
    "        # 加载 Excel 文件\n",
    "        wb = load_workbook(file_path, read_only=True)  # 使用 read_only=True 提高性能\n",
    "        sheet_names = wb.sheetnames  # 获取所有工作表名称\n",
    "        wb.close()  # 关闭工作簿\n",
    "        return sheet_names\n",
    "    except FileNotFoundError:\n",
    "        print(f\"文件 {file_path} 未找到！\")\n",
    "        return []\n",
    "    except Exception as e:\n",
    "        print(f\"无法读取文件: {e}\")\n",
    "        return []"
   ]
  },
  {
   "cell_type": "code",
   "execution_count": null,
   "metadata": {},
   "outputs": [],
   "source": [
    "combined_df = {}\n",
    "title_row_dict = {}\n",
    "\n",
    "for sheet_name in sheet_names:\n",
    "    sheet_data = pd.DataFrame()\n",
    "    for idx, file_name in enumerate(excel_files):  # 遍历所有excel\n",
    "        file_path = os.path.join(folder_path, file_name)\n",
    "        if idx == 0: # 第一次\n",
    "            df = pd.read_excel(file_path, sheet_name=sheet_name, header=None, dtype=str)\n",
    "            title_row = None\n",
    "            for i, row in df.iterrows():\n",
    "                if row.notnull().all():  # 检测非空行作为标题行\n",
    "                    title_row = i + 1\n",
    "                    break\n",
    "            if title_row == None:\n",
    "                raise Exception('没有找到标题行，请手动设置！')\n",
    "            title_row_dict[sheet_name] = title_row\n",
    "            # new_columns = df.iloc[title_row-1].values\n",
    "            # df.columns = new_columns\n",
    "            df.columns = range(len(df.columns))\n",
    "            df = df.iloc[title_row:].reset_index(drop=True)\n",
    "            sheet_data = pd.concat([sheet_data, df], ignore_index=True, join='outer')\n",
    "            # if df.columns.duplicated().any():\n",
    "            #     raise Exception(f\"文件 {file_name} 中存在重复列名，索引: {idx}\")\n",
    "        else:\n",
    "            df = pd.read_excel(file_path, sheet_name=sheet_name, skiprows=title_row_dict[sheet_name]-1, dtype=str)\n",
    "            df.columns = range(len(df.columns))\n",
    "            sheet_data = pd.concat([sheet_data, df], ignore_index=True, join='outer')\n",
    "    combined_df[sheet_name] = sheet_data"
   ]
  },
  {
   "cell_type": "code",
   "execution_count": 9,
   "metadata": {},
   "outputs": [],
   "source": [
    "with pd.ExcelWriter(output_file, engine='openpyxl') as writer:\n",
    "    for sheet_name, df in combined_df.items():\n",
    "        title_row = title_row_dict[sheet_name]\n",
    "        df.to_excel(writer, sheet_name=sheet_name, header=False, index=False)\n",
    "        \n",
    "        # 获取 workbook 和 worksheet 对象\n",
    "        new_wb = writer.book\n",
    "        new_ws = new_wb[sheet_name]\n",
    "        new_ws.insert_rows(1, title_row) \n",
    "        \n",
    "        # 获取原始 Excel 文件的标题格式\n",
    "        original_wb = load_workbook(os.path.join(folder_path, excel_files[0]), data_only=True)\n",
    "        original_ws = original_wb[sheet_name]\n",
    "\n",
    "        for row in original_ws.iter_rows(min_row=1, max_row=title_row, values_only=False):\n",
    "            for cell in row:\n",
    "                new_cell = new_ws.cell(row=cell.row, column=cell.column, value=cell.value)\n",
    "                if cell.has_style:\n",
    "                    new_cell.font = copy(cell.font)\n",
    "                    new_cell.fill = copy(cell.fill)\n",
    "                    new_cell.alignment = copy(cell.alignment)\n",
    "                    new_cell.border = copy(cell.border)\n",
    "                    new_cell.number_format = cell.number_format\n",
    "\n",
    "        for merged_range in original_ws.merged_cells.ranges:\n",
    "            min_col, min_row, max_col, max_row = merged_range.bounds\n",
    "            if min_row <= title_row:\n",
    "                new_ws.merge_cells(start_row=min_row, start_column=min_col,\n",
    "                                end_row=max_row, end_column=max_col)\n",
    "                \n",
    "original_wb.close()\n",
    "new_wb.close()"
   ]
  },
  {
   "cell_type": "code",
   "execution_count": null,
   "metadata": {},
   "outputs": [],
   "source": []
  },
  {
   "cell_type": "code",
   "execution_count": null,
   "metadata": {},
   "outputs": [],
   "source": []
  },
  {
   "cell_type": "code",
   "execution_count": null,
   "metadata": {},
   "outputs": [],
   "source": []
  },
  {
   "cell_type": "code",
   "execution_count": null,
   "metadata": {},
   "outputs": [],
   "source": [
    "def copy_title(new_ws, ws, title_row): # 复制标题（标题行之前）\n",
    "    for row in ws.iter_rows(min_row=1, max_row=title_row, values_only=False): # 复制原始工作表的标题行\n",
    "        for cell in row:\n",
    "            new_cell = new_ws.cell(row=cell.row, column=cell.column, value=cell.value)\n",
    "            if cell.has_style:\n",
    "                new_cell.font = copy(cell.font)\n",
    "                new_cell.fill = copy(cell.fill)\n",
    "                new_cell.alignment = copy(cell.alignment)\n",
    "                new_cell.border = copy(cell.border)\n",
    "                new_cell.number_format = cell.number_format\n",
    "    for merged_range in ws.merged_cells.ranges: # 复制合并单元格信息\n",
    "        min_col, min_row, max_col, max_row = merged_range.bounds\n",
    "        if min_row <= title_row:\n",
    "            new_ws.merge_cells(start_row=min_row, start_column=min_col,\n",
    "                            end_row=max_row, end_column=max_col)"
   ]
  },
  {
   "cell_type": "code",
   "execution_count": null,
   "metadata": {},
   "outputs": [],
   "source": [
    "def copy_data(new_ws, ws, title_row): # 复制数据行（从标题行之后开始）\n",
    "    data_start_row = title_row + 1\n",
    "    for r_idx, row in enumerate(ws.iter_rows(min_row=data_start_row, values_only=True), start=new_ws.max_row):\n",
    "        for c_idx, cell in enumerate(row, start=1):\n",
    "            new_ws.cell(row=r_idx, column=c_idx, value=cell)"
   ]
  },
  {
   "cell_type": "code",
   "execution_count": null,
   "metadata": {},
   "outputs": [],
   "source": [
    "# 复制原始工作表的标题行\n",
    "for row in original_ws.iter_rows(min_row=1, max_row=title_row, values_only=False):\n",
    "    for cell in row:\n",
    "        new_cell = new_ws.cell(row=cell.row, column=cell.column, value=cell.value)\n",
    "        if cell.has_style:\n",
    "            new_cell.font = copy(cell.font)\n",
    "            new_cell.fill = copy(cell.fill)\n",
    "            new_cell.alignment = copy(cell.alignment)\n",
    "            new_cell.border = copy(cell.border)\n",
    "            new_cell.number_format = cell.number_format\n",
    "\n",
    "# 复制合并单元格信息\n",
    "for merged_range in original_ws.merged_cells.ranges:\n",
    "    min_col, min_row, max_col, max_row = merged_range.bounds\n",
    "    if min_row <= title_row:\n",
    "        new_ws.merge_cells(start_row=min_row, start_column=min_col,\n",
    "                           end_row=max_row, end_column=max_col)"
   ]
  },
  {
   "cell_type": "code",
   "execution_count": null,
   "metadata": {},
   "outputs": [],
   "source": []
  },
  {
   "cell_type": "code",
   "execution_count": 34,
   "metadata": {},
   "outputs": [],
   "source": [
    "# 创建一个新的工作簿并添加工作表\n",
    "new_wb = Workbook()\n",
    "new_ws = new_wb.create_sheet(title=sheet_name)"
   ]
  },
  {
   "cell_type": "code",
   "execution_count": 35,
   "metadata": {},
   "outputs": [
    {
     "data": {
      "text/plain": [
       "1"
      ]
     },
     "execution_count": 35,
     "metadata": {},
     "output_type": "execute_result"
    }
   ],
   "source": [
    "new_ws.max_row"
   ]
  },
  {
   "cell_type": "code",
   "execution_count": 2,
   "metadata": {},
   "outputs": [],
   "source": [
    "# 加载原始 Excel 文件\n",
    "original_wb = load_workbook(file_path, data_only=True)\n",
    "original_ws = original_wb[sheet_name]"
   ]
  },
  {
   "cell_type": "code",
   "execution_count": null,
   "metadata": {},
   "outputs": [],
   "source": [
    "# 设置 DataFrame 的列名并清理数据\n",
    "new_columns = df.iloc[title_row-1].values\n",
    "df.columns = new_columns\n",
    "df = df.iloc[title_row:].reset_index(drop=True)"
   ]
  },
  {
   "cell_type": "code",
   "execution_count": 22,
   "metadata": {},
   "outputs": [
    {
     "name": "stdout",
     "output_type": "stream",
     "text": [
      "A2:F2\n",
      "A1:AM1\n",
      "AJ2:AM2\n",
      "G2:AI2\n"
     ]
    }
   ],
   "source": [
    "for merged_range in original_ws.merged_cells:\n",
    "    print(merged_range)"
   ]
  },
  {
   "cell_type": "code",
   "execution_count": 40,
   "metadata": {},
   "outputs": [],
   "source": [
    "# 复制原始工作表的标题行\n",
    "for row in original_ws.iter_rows(min_row=1, max_row=title_row, values_only=False):\n",
    "    for cell in row:\n",
    "        new_cell = new_ws.cell(row=cell.row, column=cell.column, value=cell.value)\n",
    "        if cell.has_style:\n",
    "            new_cell.font = copy(cell.font)\n",
    "            new_cell.fill = copy(cell.fill)\n",
    "            new_cell.alignment = copy(cell.alignment)\n",
    "            new_cell.border = copy(cell.border)\n",
    "            new_cell.number_format = cell.number_format\n",
    "\n",
    "# 复制合并单元格信息\n",
    "for merged_range in original_ws.merged_cells.ranges:\n",
    "    min_col, min_row, max_col, max_row = merged_range.bounds\n",
    "    if min_row <= title_row:\n",
    "        new_ws.merge_cells(start_row=min_row, start_column=min_col,\n",
    "                           end_row=max_row, end_column=max_col)\n",
    "        \n",
    "# 将 DataFrame 的数据追加到新工作表的后面\n",
    "# for r_idx, row in enumerate(dataframe_to_rows(df, index=False, header=False), start=title_row+1):\n",
    "#     for c_idx, value in enumerate(row, start=1):\n",
    "#         new_ws.cell(row=r_idx, column=c_idx, value=value)\n",
    "\n",
    "# 复制数据行（从标题行之后开始）\n",
    "data_start_row = title_row + 1\n",
    "for r_idx, row in enumerate(original_ws.iter_rows(min_row=data_start_row, values_only=False), start=data_start_row):\n",
    "    for c_idx, cell in enumerate(row, start=1):\n",
    "        new_ws.cell(row=r_idx, column=c_idx, value=cell.value)\n",
    "\n",
    "# 保存新的 Excel 文件\n",
    "new_wb.save('a.xlsx')\n",
    "\n",
    "# 关闭原始工作簿\n",
    "original_wb.close()\n",
    "\n",
    "# 关闭新工作簿（可选，但建议保留以确保资源释放）\n",
    "new_wb.close()\n"
   ]
  },
  {
   "cell_type": "code",
   "execution_count": null,
   "metadata": {},
   "outputs": [],
   "source": []
  }
 ],
 "metadata": {
  "kernelspec": {
   "display_name": "excel_tool_env",
   "language": "python",
   "name": "python3"
  },
  "language_info": {
   "codemirror_mode": {
    "name": "ipython",
    "version": 3
   },
   "file_extension": ".py",
   "mimetype": "text/x-python",
   "name": "python",
   "nbconvert_exporter": "python",
   "pygments_lexer": "ipython3",
   "version": "3.10.15"
  }
 },
 "nbformat": 4,
 "nbformat_minor": 2
}
