{
 "cells": [
  {
   "cell_type": "code",
   "execution_count": 1,
   "metadata": {},
   "outputs": [],
   "source": [
    "import re\n",
    "import pdfplumber"
   ]
  },
  {
   "cell_type": "code",
   "execution_count": 2,
   "metadata": {},
   "outputs": [],
   "source": [
    "def extract_text_from_pdf(pdf_path):\n",
    "    with pdfplumber.open(pdf_path) as pdf:\n",
    "        text = ''\n",
    "        for page in pdf.pages:\n",
    "            text += page.extract_text()\n",
    "    return text"
   ]
  },
  {
   "cell_type": "code",
   "execution_count": 3,
   "metadata": {},
   "outputs": [
    {
     "name": "stdout",
     "output_type": "stream",
     "text": [
      "电子发票（普通发票）\n",
      "发票号码：25952000000014433029\n",
      "开票日期：2025年01月19日\n",
      "共1页 第1页\n",
      "购 名称：广西扬翔猪基因科技有限公司 销 名称：深圳市禾尖酒店管理有限公司南山科技园分公司\n",
      "买 售\n",
      "方 方\n",
      "信 统一社会信用代码/纳税人识别号：914508005640244464 信 统一社会信用代码/纳税人识别号：91440300MA5FPDQK03\n",
      "息 息\n",
      "项目名称 规格型号 单 位 数 量 单 价 金 额 税率/征收率 税 额\n",
      "*住宿服务*住宿费 间 4 453.056603773585 1812.23 6% 108.73\n",
      "合 计 ¥1812.23 ¥108.73\n",
      "价税合计（大写） 壹仟玖佰贰拾圆玖角陆分 （小写）¥1920.96\n",
      "备\n",
      "注\n",
      "开票人：杨芳\n",
      "杨芳\n"
     ]
    }
   ],
   "source": [
    "pdf_path = 'D:\\\\Deeplearning\\\\excel_tools\\\\data\\\\4324.pdf'\n",
    "text = extract_text_from_pdf(pdf_path)\n",
    "print(text)"
   ]
  },
  {
   "cell_type": "code",
   "execution_count": 6,
   "metadata": {},
   "outputs": [
    {
     "data": {
      "text/plain": [
       "'25952000000014433029'"
      ]
     },
     "execution_count": 6,
     "metadata": {},
     "output_type": "execute_result"
    }
   ],
   "source": [
    "match = re.search(r'发票号码[:：]\\s*(\\d+)', text)\n",
    "match.group(1)\n",
    "number = match.group(1)\n",
    "number"
   ]
  },
  {
   "cell_type": "code",
   "execution_count": 7,
   "metadata": {},
   "outputs": [],
   "source": [
    "cout = 0"
   ]
  },
  {
   "cell_type": "code",
   "execution_count": 8,
   "metadata": {},
   "outputs": [
    {
     "name": "stdout",
     "output_type": "stream",
     "text": [
      "['广西扬翔猪基因科技有限公司', '深圳市禾尖酒店管理有限公司南山科技园分公司']\n"
     ]
    }
   ],
   "source": [
    "company_name_pattern = r'名\\s*称[:：]\\s*([^\\s\\n]+)'\n",
    "company_names = re.findall(company_name_pattern, text)  \n",
    "print(company_names)"
   ]
  },
  {
   "cell_type": "code",
   "execution_count": 9,
   "metadata": {},
   "outputs": [],
   "source": [
    "company_map = {\n",
    "    '广西扬翔集团股份有限公司': '扬翔股份',\n",
    "    '广西扬翔农牧有限责任公司': '扬翔农牧',\n",
    "    '广西扬翔猪基因科技有限公司': '猪基因',\n",
    "    '贵港瑞康饲料有限公司': '贵港瑞康',\n",
    "    '南宁扬翔农牧有限公司': '南宁扬翔'\n",
    "}"
   ]
  },
  {
   "cell_type": "code",
   "execution_count": 10,
   "metadata": {},
   "outputs": [
    {
     "name": "stdout",
     "output_type": "stream",
     "text": [
      "猪基因\n"
     ]
    }
   ],
   "source": [
    "company = ''\n",
    "for company_name in company_names:\n",
    "    if company_name in company_map:\n",
    "        company = company_map[company_name]\n",
    "print(company)"
   ]
  },
  {
   "cell_type": "code",
   "execution_count": 11,
   "metadata": {},
   "outputs": [],
   "source": [
    "name = '莫霜露'"
   ]
  },
  {
   "cell_type": "code",
   "execution_count": 20,
   "metadata": {},
   "outputs": [
    {
     "data": {
      "text/plain": [
       "'1920.96'"
      ]
     },
     "execution_count": 20,
     "metadata": {},
     "output_type": "execute_result"
    }
   ],
   "source": [
    "amount_pattern = r'[（(]小\\s*写[）)]\\s*[￥¥]([\\d,]+(?:\\.\\d{2})?)'\n",
    "match_amount = re.search(amount_pattern, text)\n",
    "amount = match_amount.group(1)\n",
    "amount"
   ]
  },
  {
   "cell_type": "code",
   "execution_count": 11,
   "metadata": {},
   "outputs": [
    {
     "data": {
      "text/plain": [
       "'0、猪基因_莫霜露_12277135_13.09元.pdf'"
      ]
     },
     "execution_count": 11,
     "metadata": {},
     "output_type": "execute_result"
    }
   ],
   "source": [
    "output_name = f'{cout}、{company}_{name}_{number}_{amount}元.pdf'\n",
    "output_name"
   ]
  },
  {
   "cell_type": "code",
   "execution_count": null,
   "metadata": {},
   "outputs": [],
   "source": [
    "# def extract_text_from_pdf(pdf_path):\n",
    "#     with open(pdf_path, 'rb') as file:\n",
    "#         reader = PyPDF2.PdfReader(file)\n",
    "#         text = ''\n",
    "#         for page in reader.pages:\n",
    "#             text += page.extract_text()\n",
    "#     return text\n",
    "\n",
    "# pdf_path = 'D:\\\\Deeplearning\\\\excel_tools\\\\data\\\\1、猪基因_莫霜露_12277135_13.09元.pdf'\n",
    "# text = extract_text_from_pdf(pdf_path)\n",
    "# print(text)"
   ]
  }
 ],
 "metadata": {
  "kernelspec": {
   "display_name": "excel_tool_env",
   "language": "python",
   "name": "python3"
  },
  "language_info": {
   "codemirror_mode": {
    "name": "ipython",
    "version": 3
   },
   "file_extension": ".py",
   "mimetype": "text/x-python",
   "name": "python",
   "nbconvert_exporter": "python",
   "pygments_lexer": "ipython3",
   "version": "3.10.15"
  }
 },
 "nbformat": 4,
 "nbformat_minor": 2
}
